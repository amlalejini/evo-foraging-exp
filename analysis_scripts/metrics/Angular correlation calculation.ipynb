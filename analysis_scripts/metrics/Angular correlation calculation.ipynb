{
 "cells": [
  {
   "cell_type": "code",
   "execution_count": 1,
   "metadata": {
    "collapsed": false
   },
   "outputs": [
    {
     "name": "stdout",
     "output_type": "stream",
     "text": [
      "Populating the interactive namespace from numpy and matplotlib\n"
     ]
    }
   ],
   "source": [
    "%pylab inline\n"
   ]
  },
  {
   "cell_type": "code",
   "execution_count": 2,
   "metadata": {
    "collapsed": false
   },
   "outputs": [],
   "source": [
    "from pandas import *\n",
    "%matplotlib inline\n",
    "import numpy as np\n",
    "import matplotlib.pyplot as plt\n",
    "import scipy.fftpack\n"
   ]
  },
  {
   "cell_type": "code",
   "execution_count": 4,
   "metadata": {
    "collapsed": false
   },
   "outputs": [],
   "source": [
    "# import csv\n",
    "\n",
    "# csv_content = []\n",
    "# with open(\"dominantG4P0.csv\", \"r\") as csvfp:\n",
    "#     csvreader = csv.reader(csvfp, delimiter = \",\", quotechar = '\"')\n",
    "#     for row in csvreader:\n",
    "#        csv_content.append(row)\n",
    "# print (csv_content)\n",
    "# exit()\n"
   ]
  },
  {
   "cell_type": "code",
   "execution_count": 6,
   "metadata": {
    "collapsed": false
   },
   "outputs": [
    {
     "ename": "IOError",
     "evalue": "[Errno 2] No such file or directory: 'dominant.csv'",
     "output_type": "error",
     "traceback": [
      "\u001b[1;31m---------------------------------------------------------------------------\u001b[0m",
      "\u001b[1;31mIOError\u001b[0m                                   Traceback (most recent call last)",
      "\u001b[1;32m<ipython-input-6-9a51cf9cb6f8>\u001b[0m in \u001b[0;36m<module>\u001b[1;34m()\u001b[0m\n\u001b[1;32m----> 1\u001b[1;33m \u001b[0mF\u001b[0m\u001b[1;33m=\u001b[0m\u001b[0mopen\u001b[0m\u001b[1;33m(\u001b[0m\u001b[1;34m\"dominant.csv\"\u001b[0m\u001b[1;33m,\u001b[0m\u001b[1;34m\"rt\"\u001b[0m\u001b[1;33m)\u001b[0m\u001b[1;33m\u001b[0m\u001b[0m\n\u001b[0m\u001b[0;32m      2\u001b[0m \u001b[0mtheContent\u001b[0m\u001b[1;33m=\u001b[0m\u001b[0mF\u001b[0m\u001b[1;33m.\u001b[0m\u001b[0mread\u001b[0m\u001b[1;33m(\u001b[0m\u001b[1;33m)\u001b[0m\u001b[1;33m\u001b[0m\u001b[0m\n\u001b[0;32m      3\u001b[0m \u001b[0mF\u001b[0m\u001b[1;33m.\u001b[0m\u001b[0mclose\u001b[0m\u001b[1;33m(\u001b[0m\u001b[1;33m)\u001b[0m\u001b[1;33m\u001b[0m\u001b[0m\n\u001b[0;32m      4\u001b[0m \u001b[0mtemps\u001b[0m\u001b[1;33m=\u001b[0m\u001b[0mlist\u001b[0m\u001b[1;33m(\u001b[0m\u001b[1;33m)\u001b[0m\u001b[1;33m\u001b[0m\u001b[0m\n\u001b[0;32m      5\u001b[0m \u001b[0mrows\u001b[0m \u001b[1;33m=\u001b[0m \u001b[0mtheContent\u001b[0m\u001b[1;33m.\u001b[0m\u001b[0msplit\u001b[0m\u001b[1;33m(\u001b[0m\u001b[1;34m\"\\n\"\u001b[0m\u001b[1;33m)\u001b[0m\u001b[1;33m\u001b[0m\u001b[0m\n",
      "\u001b[1;31mIOError\u001b[0m: [Errno 2] No such file or directory: 'dominant.csv'"
     ]
    }
   ],
   "source": [
    "F=open(\"dominant.csv\",\"rt\")\n",
    "theContent=F.read()\n",
    "F.close()\n",
    "temps=list()\n",
    "rows = theContent.split(\"\\n\")\n",
    "exp=rows[len(rows)-2].replace('[','')\n",
    "exp1=exp.replace('\"','')\n",
    "exp2=exp1.replace(']','')\n",
    "exp3=exp2.split(',')\n",
    "\n",
    "i=8\n",
    "xLoc=[[],[],[]]\n",
    "yLoc=[[],[],[]]\n",
    "while(i<6152):\n",
    "    if (i<1032):\n",
    "        xLoc[0].append(int(exp3[i]))\n",
    "    elif (i>=1032 and i<2056):\n",
    "        xLoc[1].append(int(exp3[i]))\n",
    "    elif (i>=2056 and i<3080):\n",
    "        xLoc[2].append(int(exp3[i]))\n",
    "    elif (i>=3080 and i<4104):\n",
    "        yLoc[0].append(int(exp3[i]))\n",
    "    elif (i>=4104 and i<5128):\n",
    "        yLoc[1].append(int(exp3[i]))\n",
    "    elif (i>=5128 and i<6152):\n",
    "        yLoc[2].append(int(exp3[i]))\n",
    "    i=i+1\n",
    "i=0\n",
    "j=0\n",
    "angCor=[[],[],[]]\n",
    "disCor=[[],[],[]]\n",
    "replicate=2\n",
    "\n",
    "while (i<1019):\n",
    "    if ((((xLoc[replicate][i+5]-xLoc[replicate][i])**2 + (yLoc[replicate][i+5]-yLoc[replicate][i])**2)**0.5)!=0):\n",
    "        angCor[replicate].append((xLoc[replicate][i+5]-xLoc[replicate][i])/(((xLoc[replicate][i+5]-xLoc[replicate][i])**2 + (yLoc[replicate][i+5]-yLoc[replicate][i])**2)**0.5))\n",
    "    i=i+1\n",
    "\n",
    "i=0\n",
    "while (i<1019):\n",
    "    disCor[replicate].append((((xLoc[replicate][i+5]-xLoc[replicate][i])**2 + (yLoc[replicate][i+5]-yLoc[replicate][i])**2)**0.5))\n",
    "    i=i+1\n",
    "\n",
    "    \n",
    "#plot(angCor[replicate])\n",
    "#axis([0,1100,-1.5,1.5])\n",
    "#xlabel(\"Movements\")\n",
    "#ylabel(\"Radial distance\")\n",
    "\n",
    "#plot(disCor[replicate])\n",
    "print(len(disCor[replicate]))\n",
    "#savefig('G4P0dis.png')\n",
    "\n",
    "#xf=np.fft.fft(angCor[replicate])\n",
    "#plot(xf)"
   ]
  },
  {
   "cell_type": "code",
   "execution_count": 111,
   "metadata": {
    "collapsed": false
   },
   "outputs": [
    {
     "data": {
      "text/plain": [
       "1.4142135623730951"
      ]
     },
     "execution_count": 111,
     "metadata": {},
     "output_type": "execute_result"
    }
   ],
   "source": [
    "F=open(\"dataBeacon.csv\",\"rt\")\n",
    "theContent=F.read()\n",
    "F.close()\n",
    "temps=list()\n",
    "rows = theContent.split(\"\\n\")\n",
    "exp=rows[len(rows)-1].replace('[','')\n",
    "exp1=exp.replace('\"','')\n",
    "exp2=exp1.replace(']','')\n",
    "exp3=exp2.split(',')\n",
    "i=8\n",
    "xLoc=[[],[],[]]\n",
    "yLoc=[[],[],[]]\n",
    "while(i<6152):\n",
    "    if (i<1032):\n",
    "        xLoc[0].append(int(exp3[i]))\n",
    "    elif (i>=1032 and i<2056):\n",
    "        xLoc[1].append(int(exp3[i]))\n",
    "    elif (i>=2056 and i<3080):\n",
    "        xLoc[2].append(int(exp3[i]))\n",
    "    elif (i>=3080 and i<4104):\n",
    "        yLoc[0].append(int(exp3[i]))\n",
    "    elif (i>=4104 and i<5128):\n",
    "        yLoc[1].append(int(exp3[i]))\n",
    "    elif (i>=5128 and i<6152):\n",
    "        yLoc[2].append(int(exp3[i]))\n",
    "    i=i+1\n",
    "i=0\n",
    "j=0\n",
    "angCor=[[],[],[]]\n",
    "disCor=[[],[],[]]\n",
    "replicate=2\n",
    "\n",
    "while (i<1019):\n",
    "    if ((((xLoc[replicate][i+5]-xLoc[replicate][i])**2 + (yLoc[replicate][i+5]-yLoc[replicate][i])**2)**0.5)!=0):\n",
    "        angCor[replicate].append((xLoc[replicate][i+5]-xLoc[replicate][i])/(((xLoc[replicate][i+5]-xLoc[replicate][i])**2 + (yLoc[replicate][i+5]-yLoc[replicate][i])**2)**0.5))\n",
    "    i=i+1\n",
    "i=0\n",
    "while (i<1019):\n",
    "    disCor[replicate].append((((xLoc[replicate][i+5]-xLoc[replicate][i])**2 + (yLoc[replicate][i+5]-yLoc[replicate][i])**2)**0.5))\n",
    "    i=i+1\n",
    "\n",
    "    \n",
    "#plot(angCor[replicate])\n",
    "axis([0,1100,0,5.5])\n",
    "xlabel(\"Movements\")\n",
    "ylabel(\"Angular correlation\")\n",
    "\n",
    "plot(disCor[replicate])\n",
    "print(len(disCor[replicate]))\n",
    "savefig('fooDis2.png')"
   ]
  },
  {
   "cell_type": "code",
   "execution_count": null,
   "metadata": {
    "collapsed": true
   },
   "outputs": [],
   "source": []
  }
 ],
 "metadata": {
  "kernelspec": {
   "display_name": "Python 2",
   "language": "python",
   "name": "python2"
  },
  "language_info": {
   "codemirror_mode": {
    "name": "ipython",
    "version": 2
   },
   "file_extension": ".py",
   "mimetype": "text/x-python",
   "name": "python",
   "nbconvert_exporter": "python",
   "pygments_lexer": "ipython2",
   "version": "2.7.6"
  }
 },
 "nbformat": 4,
 "nbformat_minor": 0
}
