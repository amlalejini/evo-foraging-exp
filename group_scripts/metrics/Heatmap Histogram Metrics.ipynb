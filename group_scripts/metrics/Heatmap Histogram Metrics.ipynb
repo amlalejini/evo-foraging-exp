{
 "cells": [
  {
   "cell_type": "code",
   "execution_count": 1,
   "metadata": {
    "collapsed": false
   },
   "outputs": [
    {
     "name": "stdout",
     "output_type": "stream",
     "text": [
      "Populating the interactive namespace from numpy and matplotlib\n"
     ]
    }
   ],
   "source": [
    "%pylab inline"
   ]
  },
  {
   "cell_type": "markdown",
   "metadata": {},
   "source": [
    "from pandas import *"
   ]
  },
  {
   "cell_type": "code",
   "execution_count": 2,
   "metadata": {
    "collapsed": false
   },
   "outputs": [
    {
     "name": "stdout",
     "output_type": "stream",
     "text": [
      "0\n",
      "3\n"
     ]
    },
    {
     "data": {
      "text/plain": [
       "<matplotlib.image.AxesImage at 0xa4018d0>"
      ]
     },
     "execution_count": 2,
     "metadata": {},
     "output_type": "execute_result"
    },
    {
     "data": {
      "image/png": "[encoded data removed]",
      "text/plain": [
       "<matplotlib.figure.Figure at 0xa15d8d0>"
      ]
     },
     "metadata": {},
     "output_type": "display_data"
    }
   ],
   "source": [
    "xDim=80 #size of area to create\n",
    "yDim=80 \n",
    "Lifespan=1024\n",
    "trial=0 #0-2 \n",
    "dataList=[]\n",
    "numTrials=3 #always three replicates\n",
    "\n",
    "import csv\n",
    "Fname=\"data/dominant.csv\" #assign csv file to a variable\n",
    "with open(Fname, \"r\") as fp: #open final, becomes variable fp, will close file automatically\n",
    "    data=csv.reader(fp,delimiter=\",\",quotechar='\"') #reads everything in file and writes it into 'data' \n",
    "    for row in data:\n",
    "        dataList.append(row) #this makes each row of data a segment of the list\n",
    "\n",
    "dataList=dataList[-1] #-1 means start from end of list instead of beginning, means dataList now only has last row- that's one we want\n",
    "allxLocs=dataList[8].strip(\"[]\").split(\",\") #this strips away brackets and splits it by commas (the 8th term- xLocs)\n",
    "allyLocs=dataList[9].strip(\"[]\").split(\",\")\n",
    "\n",
    "trialXLocs=[]\n",
    "trialYLocs=[]\n",
    "\n",
    "for t in range(0,numTrials): #this puts each replicates steps as a separate element in a list\n",
    "    trialXLocs.append(allxLocs[t*Lifespan:(t+1)*Lifespan])\n",
    "    trialYLocs.append(allyLocs[t*Lifespan:(t+1)*Lifespan])\n",
    "\n",
    "print len(trialYLocs[2])\n",
    "print len(trialXLocs)\n",
    "\n",
    "area=list()\n",
    "for x in range(xDim):\n",
    "    area.append(list())\n",
    "    for y in range(yDim):\n",
    "        area[x].append(0)\n",
    "#print area\n",
    "\n",
    "for j in range(Lifespan):\n",
    "    xCor=int(trialXLocs[trial][j])\n",
    "    yCor=int(trialYLocs[trial][j])\n",
    "    area[xCor][yCor]=area[xCor][yCor]+1\n",
    "imshow(area, interpolation=\"nearest\")"
   ]
  },
  {
   "cell_type": "code",
   "execution_count": 3,
   "metadata": {
    "collapsed": false
   },
   "outputs": [
    {
     "name": "stdout",
     "output_type": "stream",
     "text": [
      "[5618, 575, 181, 18, 7, 1, 0, 0, 0, 0, 0, 0, 0, 0, 0, 0, 0, 0, 0, 0, 0, 0, 0, 0, 0, 0, 0, 0, 0, 0, 0, 0, 0, 0, 0, 0, 0, 0, 0, 0, 0, 0, 0, 0, 0, 0, 0, 0, 0, 0]\n"
     ]
    },
    {
     "data": {
      "text/plain": [
       "<matplotlib.text.Text at 0xa4b4668>"
      ]
     },
     "execution_count": 3,
     "metadata": {},
     "output_type": "execute_result"
    },
    {
     "data": {
      "image/png": "[encoded data removed]",
      "text/plain": [
       "<matplotlib.figure.Figure at 0xa232390>"
      ]
     },
     "metadata": {},
     "output_type": "display_data"
    }
   ],
   "source": [
    "numTimesRepeated=[]\n",
    "for i in range(50):\n",
    "    numTimesRepeated.append(0)\n",
    "#print numTimesRepeated\n",
    "\n",
    "for i in range(xDim):\n",
    "    for j in range(yDim):\n",
    "        numTimes=area[i][j]\n",
    "        numTimesRepeated[numTimes]=numTimesRepeated[numTimes]+1\n",
    "print numTimesRepeated        \n",
    "bar([0,1,2,3,4,5,6,7,8],[numTimesRepeated[0],numTimesRepeated[1],numTimesRepeated[2],numTimesRepeated[3],numTimesRepeated[4],numTimesRepeated[5],numTimesRepeated[6],numTimesRepeated[7],numTimesRepeated[8]])\n",
    "xlabel(\"Number of Times Visited\")\n",
    "ylabel(\"Number of Squares\")\n",
    "title(\"Distribution of Revisits\")"
   ]
  },
  {
   "cell_type": "code",
   "execution_count": null,
   "metadata": {
    "collapsed": true
   },
   "outputs": [],
   "source": []
  }
 ],
 "metadata": {
  "kernelspec": {
   "display_name": "Python 2",
   "language": "python",
   "name": "python2"
  },
  "language_info": {
   "codemirror_mode": {
    "name": "ipython",
    "version": 2
   },
   "file_extension": ".py",
   "mimetype": "text/x-python",
   "name": "python",
   "nbconvert_exporter": "python",
   "pygments_lexer": "ipython2",
   "version": "2.7.6"
  }
 },
 "nbformat": 4,
 "nbformat_minor": 0
}
